{
 "cells": [
  {
   "cell_type": "markdown",
   "id": "03317b2e",
   "metadata": {},
   "source": [
    "## Task 1: Nạp các thư viện và tải file dữ liệu"
   ]
  },
  {
   "cell_type": "code",
   "execution_count": 56,
   "id": "f78b8346",
   "metadata": {},
   "outputs": [],
   "source": [
    "import pandas as pd\n",
    "import numpy as np\n",
    "import matplotlib.pyplot as plt\n",
    "import datetime as dt\n",
    "import os\n",
    "import glob"
   ]
  },
  {
   "cell_type": "code",
   "execution_count": 8,
   "id": "70ed1687",
   "metadata": {},
   "outputs": [
    {
     "name": "stdout",
     "output_type": "stream",
     "text": [
      "Nhập file dữ liệu cần tải lên: C:\\Users\\ADMIN\\Downloads\\Compressed\\Sales-Reporting-main\\data\\sales2019_1.csv\n"
     ]
    },
    {
     "data": {
      "text/html": [
       "<div>\n",
       "<style scoped>\n",
       "    .dataframe tbody tr th:only-of-type {\n",
       "        vertical-align: middle;\n",
       "    }\n",
       "\n",
       "    .dataframe tbody tr th {\n",
       "        vertical-align: top;\n",
       "    }\n",
       "\n",
       "    .dataframe thead th {\n",
       "        text-align: right;\n",
       "    }\n",
       "</style>\n",
       "<table border=\"1\" class=\"dataframe\">\n",
       "  <thead>\n",
       "    <tr style=\"text-align: right;\">\n",
       "      <th></th>\n",
       "      <th>Order ID</th>\n",
       "      <th>Product</th>\n",
       "      <th>Quantity Ordered</th>\n",
       "      <th>Price Each</th>\n",
       "      <th>Order Date</th>\n",
       "      <th>Purchase Address</th>\n",
       "    </tr>\n",
       "  </thead>\n",
       "  <tbody>\n",
       "    <tr>\n",
       "      <th>0</th>\n",
       "      <td>141234</td>\n",
       "      <td>iPhone</td>\n",
       "      <td>1</td>\n",
       "      <td>700</td>\n",
       "      <td>01/22/19 21:25</td>\n",
       "      <td>944 Walnut St, Boston, MA 02215</td>\n",
       "    </tr>\n",
       "    <tr>\n",
       "      <th>1</th>\n",
       "      <td>141235</td>\n",
       "      <td>Lightning Charging Cable</td>\n",
       "      <td>1</td>\n",
       "      <td>14.95</td>\n",
       "      <td>01/28/19 14:15</td>\n",
       "      <td>185 Maple St, Portland, OR 97035</td>\n",
       "    </tr>\n",
       "    <tr>\n",
       "      <th>2</th>\n",
       "      <td>141236</td>\n",
       "      <td>Wired Headphones</td>\n",
       "      <td>2</td>\n",
       "      <td>11.99</td>\n",
       "      <td>01/17/19 13:33</td>\n",
       "      <td>538 Adams St, San Francisco, CA 94016</td>\n",
       "    </tr>\n",
       "    <tr>\n",
       "      <th>3</th>\n",
       "      <td>141237</td>\n",
       "      <td>27in FHD Monitor</td>\n",
       "      <td>1</td>\n",
       "      <td>149.99</td>\n",
       "      <td>01/05/19 20:33</td>\n",
       "      <td>738 10th St, Los Angeles, CA 90001</td>\n",
       "    </tr>\n",
       "    <tr>\n",
       "      <th>4</th>\n",
       "      <td>141238</td>\n",
       "      <td>Wired Headphones</td>\n",
       "      <td>1</td>\n",
       "      <td>11.99</td>\n",
       "      <td>01/25/19 11:59</td>\n",
       "      <td>387 10th St, Austin, TX 73301</td>\n",
       "    </tr>\n",
       "    <tr>\n",
       "      <th>...</th>\n",
       "      <td>...</td>\n",
       "      <td>...</td>\n",
       "      <td>...</td>\n",
       "      <td>...</td>\n",
       "      <td>...</td>\n",
       "      <td>...</td>\n",
       "    </tr>\n",
       "    <tr>\n",
       "      <th>9718</th>\n",
       "      <td>150497</td>\n",
       "      <td>20in Monitor</td>\n",
       "      <td>1</td>\n",
       "      <td>109.99</td>\n",
       "      <td>01/26/19 19:09</td>\n",
       "      <td>95 8th St, Dallas, TX 75001</td>\n",
       "    </tr>\n",
       "    <tr>\n",
       "      <th>9719</th>\n",
       "      <td>150498</td>\n",
       "      <td>27in FHD Monitor</td>\n",
       "      <td>1</td>\n",
       "      <td>149.99</td>\n",
       "      <td>01/10/19 22:58</td>\n",
       "      <td>403 7th St, San Francisco, CA 94016</td>\n",
       "    </tr>\n",
       "    <tr>\n",
       "      <th>9720</th>\n",
       "      <td>150499</td>\n",
       "      <td>ThinkPad Laptop</td>\n",
       "      <td>1</td>\n",
       "      <td>999.99</td>\n",
       "      <td>01/21/19 14:31</td>\n",
       "      <td>214 Main St, Portland, OR 97035</td>\n",
       "    </tr>\n",
       "    <tr>\n",
       "      <th>9721</th>\n",
       "      <td>150500</td>\n",
       "      <td>AAA Batteries (4-pack)</td>\n",
       "      <td>2</td>\n",
       "      <td>2.99</td>\n",
       "      <td>01/15/19 14:21</td>\n",
       "      <td>810 2nd St, Los Angeles, CA 90001</td>\n",
       "    </tr>\n",
       "    <tr>\n",
       "      <th>9722</th>\n",
       "      <td>150501</td>\n",
       "      <td>Google Phone</td>\n",
       "      <td>1</td>\n",
       "      <td>600</td>\n",
       "      <td>01/13/19 16:43</td>\n",
       "      <td>428 Cedar St, Boston, MA 02215</td>\n",
       "    </tr>\n",
       "  </tbody>\n",
       "</table>\n",
       "<p>9723 rows × 6 columns</p>\n",
       "</div>"
      ],
      "text/plain": [
       "     Order ID                   Product Quantity Ordered Price Each  \\\n",
       "0      141234                    iPhone                1        700   \n",
       "1      141235  Lightning Charging Cable                1      14.95   \n",
       "2      141236          Wired Headphones                2      11.99   \n",
       "3      141237          27in FHD Monitor                1     149.99   \n",
       "4      141238          Wired Headphones                1      11.99   \n",
       "...       ...                       ...              ...        ...   \n",
       "9718   150497              20in Monitor                1     109.99   \n",
       "9719   150498          27in FHD Monitor                1     149.99   \n",
       "9720   150499           ThinkPad Laptop                1     999.99   \n",
       "9721   150500    AAA Batteries (4-pack)                2       2.99   \n",
       "9722   150501              Google Phone                1        600   \n",
       "\n",
       "          Order Date                       Purchase Address  \n",
       "0     01/22/19 21:25        944 Walnut St, Boston, MA 02215  \n",
       "1     01/28/19 14:15       185 Maple St, Portland, OR 97035  \n",
       "2     01/17/19 13:33  538 Adams St, San Francisco, CA 94016  \n",
       "3     01/05/19 20:33     738 10th St, Los Angeles, CA 90001  \n",
       "4     01/25/19 11:59          387 10th St, Austin, TX 73301  \n",
       "...              ...                                    ...  \n",
       "9718  01/26/19 19:09            95 8th St, Dallas, TX 75001  \n",
       "9719  01/10/19 22:58    403 7th St, San Francisco, CA 94016  \n",
       "9720  01/21/19 14:31        214 Main St, Portland, OR 97035  \n",
       "9721  01/15/19 14:21      810 2nd St, Los Angeles, CA 90001  \n",
       "9722  01/13/19 16:43         428 Cedar St, Boston, MA 02215  \n",
       "\n",
       "[9723 rows x 6 columns]"
      ]
     },
     "execution_count": 8,
     "metadata": {},
     "output_type": "execute_result"
    }
   ],
   "source": [
    "filename=input(\"Nhập file dữ liệu cần tải lên: \")\n",
    "df=pd.read_csv(filename)\n",
    "df"
   ]
  },
  {
   "cell_type": "markdown",
   "id": "2f51f141",
   "metadata": {},
   "source": [
    "## Bước 2: Làm sạch và xử lý dữ liệu"
   ]
  },
  {
   "cell_type": "markdown",
   "id": "0f46723a",
   "metadata": {},
   "source": [
    "### Bước 2.1: Gộp dữ liệu 12 tháng"
   ]
  },
  {
   "cell_type": "code",
   "execution_count": 24,
   "id": "d087fb4f",
   "metadata": {},
   "outputs": [],
   "source": [
    "\n",
    "#define path to CSV files\n",
    "path = '/Data analyst/Sales Ecommerce/Sales-Reporting-main/data/'\n",
    "df=pd.DataFrame()\n",
    "for file in os.listdir(os.getcwd()):\n",
    "    if (file.endswith('.csv')):\n",
    "        df=df.append(pd.read_csv(file))\n",
    "df.to_csv(path+'annualSales2019.csv',index=False)"
   ]
  },
  {
   "cell_type": "code",
   "execution_count": null,
   "id": "accd3cc5",
   "metadata": {},
   "outputs": [],
   "source": [
    "###Bước 2.2: Thêm cột tháng"
   ]
  },
  {
   "cell_type": "code",
   "execution_count": 32,
   "id": "8f2e6e6f",
   "metadata": {
    "scrolled": true
   },
   "outputs": [
    {
     "data": {
      "text/html": [
       "<div>\n",
       "<style scoped>\n",
       "    .dataframe tbody tr th:only-of-type {\n",
       "        vertical-align: middle;\n",
       "    }\n",
       "\n",
       "    .dataframe tbody tr th {\n",
       "        vertical-align: top;\n",
       "    }\n",
       "\n",
       "    .dataframe thead th {\n",
       "        text-align: right;\n",
       "    }\n",
       "</style>\n",
       "<table border=\"1\" class=\"dataframe\">\n",
       "  <thead>\n",
       "    <tr style=\"text-align: right;\">\n",
       "      <th></th>\n",
       "      <th>Order ID</th>\n",
       "      <th>Product</th>\n",
       "      <th>Quantity Ordered</th>\n",
       "      <th>Price Each</th>\n",
       "      <th>Order Date</th>\n",
       "      <th>Purchase Address</th>\n",
       "      <th>Month</th>\n",
       "    </tr>\n",
       "  </thead>\n",
       "  <tbody>\n",
       "    <tr>\n",
       "      <th>0</th>\n",
       "      <td>141234</td>\n",
       "      <td>iPhone</td>\n",
       "      <td>1</td>\n",
       "      <td>700</td>\n",
       "      <td>01/22/19 21:25</td>\n",
       "      <td>944 Walnut St, Boston, MA 02215</td>\n",
       "      <td>01</td>\n",
       "    </tr>\n",
       "    <tr>\n",
       "      <th>1</th>\n",
       "      <td>141235</td>\n",
       "      <td>Lightning Charging Cable</td>\n",
       "      <td>1</td>\n",
       "      <td>14.95</td>\n",
       "      <td>01/28/19 14:15</td>\n",
       "      <td>185 Maple St, Portland, OR 97035</td>\n",
       "      <td>01</td>\n",
       "    </tr>\n",
       "    <tr>\n",
       "      <th>2</th>\n",
       "      <td>141236</td>\n",
       "      <td>Wired Headphones</td>\n",
       "      <td>2</td>\n",
       "      <td>11.99</td>\n",
       "      <td>01/17/19 13:33</td>\n",
       "      <td>538 Adams St, San Francisco, CA 94016</td>\n",
       "      <td>01</td>\n",
       "    </tr>\n",
       "    <tr>\n",
       "      <th>3</th>\n",
       "      <td>141237</td>\n",
       "      <td>27in FHD Monitor</td>\n",
       "      <td>1</td>\n",
       "      <td>149.99</td>\n",
       "      <td>01/05/19 20:33</td>\n",
       "      <td>738 10th St, Los Angeles, CA 90001</td>\n",
       "      <td>01</td>\n",
       "    </tr>\n",
       "    <tr>\n",
       "      <th>4</th>\n",
       "      <td>141238</td>\n",
       "      <td>Wired Headphones</td>\n",
       "      <td>1</td>\n",
       "      <td>11.99</td>\n",
       "      <td>01/25/19 11:59</td>\n",
       "      <td>387 10th St, Austin, TX 73301</td>\n",
       "      <td>01</td>\n",
       "    </tr>\n",
       "  </tbody>\n",
       "</table>\n",
       "</div>"
      ],
      "text/plain": [
       "  Order ID                   Product Quantity Ordered Price Each  \\\n",
       "0   141234                    iPhone                1        700   \n",
       "1   141235  Lightning Charging Cable                1      14.95   \n",
       "2   141236          Wired Headphones                2      11.99   \n",
       "3   141237          27in FHD Monitor                1     149.99   \n",
       "4   141238          Wired Headphones                1      11.99   \n",
       "\n",
       "       Order Date                       Purchase Address Month  \n",
       "0  01/22/19 21:25        944 Walnut St, Boston, MA 02215    01  \n",
       "1  01/28/19 14:15       185 Maple St, Portland, OR 97035    01  \n",
       "2  01/17/19 13:33  538 Adams St, San Francisco, CA 94016    01  \n",
       "3  01/05/19 20:33     738 10th St, Los Angeles, CA 90001    01  \n",
       "4  01/25/19 11:59          387 10th St, Austin, TX 73301    01  "
      ]
     },
     "execution_count": 32,
     "metadata": {},
     "output_type": "execute_result"
    }
   ],
   "source": [
    "df['Month']=df['Order Date'].str[:2]\n",
    "df.head()"
   ]
  },
  {
   "cell_type": "code",
   "execution_count": null,
   "id": "b4da1a03",
   "metadata": {},
   "outputs": [],
   "source": [
    "###Bước 2.3: Loại bỏ giá trị NAN và OR(Do có các hàng là tiêu đề cột của 12 file)"
   ]
  },
  {
   "cell_type": "code",
   "execution_count": 36,
   "id": "0d124984",
   "metadata": {
    "scrolled": true
   },
   "outputs": [
    {
     "data": {
      "text/html": [
       "<div>\n",
       "<style scoped>\n",
       "    .dataframe tbody tr th:only-of-type {\n",
       "        vertical-align: middle;\n",
       "    }\n",
       "\n",
       "    .dataframe tbody tr th {\n",
       "        vertical-align: top;\n",
       "    }\n",
       "\n",
       "    .dataframe thead th {\n",
       "        text-align: right;\n",
       "    }\n",
       "</style>\n",
       "<table border=\"1\" class=\"dataframe\">\n",
       "  <thead>\n",
       "    <tr style=\"text-align: right;\">\n",
       "      <th></th>\n",
       "      <th>Order ID</th>\n",
       "      <th>Product</th>\n",
       "      <th>Quantity Ordered</th>\n",
       "      <th>Price Each</th>\n",
       "      <th>Order Date</th>\n",
       "      <th>Purchase Address</th>\n",
       "      <th>Month</th>\n",
       "    </tr>\n",
       "  </thead>\n",
       "  <tbody>\n",
       "    <tr>\n",
       "      <th>0</th>\n",
       "      <td>141234</td>\n",
       "      <td>iPhone</td>\n",
       "      <td>1</td>\n",
       "      <td>700</td>\n",
       "      <td>01/22/19 21:25</td>\n",
       "      <td>944 Walnut St, Boston, MA 02215</td>\n",
       "      <td>01</td>\n",
       "    </tr>\n",
       "    <tr>\n",
       "      <th>1</th>\n",
       "      <td>141235</td>\n",
       "      <td>Lightning Charging Cable</td>\n",
       "      <td>1</td>\n",
       "      <td>14.95</td>\n",
       "      <td>01/28/19 14:15</td>\n",
       "      <td>185 Maple St, Portland, OR 97035</td>\n",
       "      <td>01</td>\n",
       "    </tr>\n",
       "    <tr>\n",
       "      <th>2</th>\n",
       "      <td>141236</td>\n",
       "      <td>Wired Headphones</td>\n",
       "      <td>2</td>\n",
       "      <td>11.99</td>\n",
       "      <td>01/17/19 13:33</td>\n",
       "      <td>538 Adams St, San Francisco, CA 94016</td>\n",
       "      <td>01</td>\n",
       "    </tr>\n",
       "    <tr>\n",
       "      <th>3</th>\n",
       "      <td>141237</td>\n",
       "      <td>27in FHD Monitor</td>\n",
       "      <td>1</td>\n",
       "      <td>149.99</td>\n",
       "      <td>01/05/19 20:33</td>\n",
       "      <td>738 10th St, Los Angeles, CA 90001</td>\n",
       "      <td>01</td>\n",
       "    </tr>\n",
       "    <tr>\n",
       "      <th>4</th>\n",
       "      <td>141238</td>\n",
       "      <td>Wired Headphones</td>\n",
       "      <td>1</td>\n",
       "      <td>11.99</td>\n",
       "      <td>01/25/19 11:59</td>\n",
       "      <td>387 10th St, Austin, TX 73301</td>\n",
       "      <td>01</td>\n",
       "    </tr>\n",
       "  </tbody>\n",
       "</table>\n",
       "</div>"
      ],
      "text/plain": [
       "  Order ID                   Product Quantity Ordered Price Each  \\\n",
       "0   141234                    iPhone                1        700   \n",
       "1   141235  Lightning Charging Cable                1      14.95   \n",
       "2   141236          Wired Headphones                2      11.99   \n",
       "3   141237          27in FHD Monitor                1     149.99   \n",
       "4   141238          Wired Headphones                1      11.99   \n",
       "\n",
       "       Order Date                       Purchase Address Month  \n",
       "0  01/22/19 21:25        944 Walnut St, Boston, MA 02215    01  \n",
       "1  01/28/19 14:15       185 Maple St, Portland, OR 97035    01  \n",
       "2  01/17/19 13:33  538 Adams St, San Francisco, CA 94016    01  \n",
       "3  01/05/19 20:33     738 10th St, Los Angeles, CA 90001    01  \n",
       "4  01/25/19 11:59          387 10th St, Austin, TX 73301    01  "
      ]
     },
     "execution_count": 36,
     "metadata": {},
     "output_type": "execute_result"
    }
   ],
   "source": [
    "#drop cloumn nan\n",
    "df=df.dropna(how='all')\n",
    "df = df.dropna(how='all')\n",
    "df = df[df['Month'] != 'Or']\n",
    "df.head()"
   ]
  },
  {
   "cell_type": "code",
   "execution_count": null,
   "id": "fa7eedaa",
   "metadata": {},
   "outputs": [],
   "source": [
    "###Bước 2.4: Kiểm tra kiểu dữ liệu và chuyển đổi kiểu dữ liệu"
   ]
  },
  {
   "cell_type": "code",
   "execution_count": 46,
   "id": "629d6f4a",
   "metadata": {},
   "outputs": [
    {
     "name": "stdout",
     "output_type": "stream",
     "text": [
      "Before change dtypes...\n",
      "<class 'pandas.core.frame.DataFrame'>\n",
      "Int64Index: 185950 entries, 0 to 186849\n",
      "Data columns (total 7 columns):\n",
      " #   Column            Non-Null Count   Dtype         \n",
      "---  ------            --------------   -----         \n",
      " 0   Order ID          185950 non-null  object        \n",
      " 1   Product           185950 non-null  object        \n",
      " 2   Quantity Ordered  185950 non-null  int8          \n",
      " 3   Price Each        185950 non-null  float32       \n",
      " 4   Order Date        185950 non-null  datetime64[ns]\n",
      " 5   Purchase Address  185950 non-null  object        \n",
      " 6   Month             185950 non-null  int8          \n",
      "dtypes: datetime64[ns](1), float32(1), int8(2), object(3)\n",
      "memory usage: 8.2+ MB\n",
      "After change dtypes...\n",
      "<class 'pandas.core.frame.DataFrame'>\n",
      "Int64Index: 185950 entries, 0 to 186849\n",
      "Data columns (total 7 columns):\n",
      " #   Column            Non-Null Count   Dtype         \n",
      "---  ------            --------------   -----         \n",
      " 0   Order ID          185950 non-null  object        \n",
      " 1   Product           185950 non-null  object        \n",
      " 2   Quantity Ordered  185950 non-null  int8          \n",
      " 3   Price Each        185950 non-null  float32       \n",
      " 4   Order Date        185950 non-null  datetime64[ns]\n",
      " 5   Purchase Address  185950 non-null  object        \n",
      " 6   Month             185950 non-null  int8          \n",
      "dtypes: datetime64[ns](1), float32(1), int8(2), object(3)\n",
      "memory usage: 8.2+ MB\n"
     ]
    }
   ],
   "source": [
    "print(\"Before change dtypes...\")\n",
    "df.info()\n",
    "df['Quantity Ordered']=pd.to_numeric(df['Quantity Ordered'],downcast=\"integer\")\n",
    "df['Month']=pd.to_numeric(df['Month'],downcast=\"integer\")\n",
    "df['Price Each']=pd.to_numeric(df['Price Each'],downcast=\"float\")\n",
    "df['Order Date']=pd.to_datetime(df['Order Date'])\n",
    "print(\"After change dtypes...\")\n",
    "df.info()"
   ]
  },
  {
   "cell_type": "code",
   "execution_count": null,
   "id": "350adce2",
   "metadata": {},
   "outputs": [],
   "source": [
    "## Bước 3: Tạo Báo Cáo (Trả lời câu hỏi)"
   ]
  },
  {
   "cell_type": "code",
   "execution_count": null,
   "id": "3ecef8fe",
   "metadata": {},
   "outputs": [],
   "source": [
    "###Câu hỏi 1: Tháng nào có doanh số tốt nhất? Doanh số tháng đó là bao nhiêu?"
   ]
  },
  {
   "cell_type": "code",
   "execution_count": 110,
   "id": "20b0aa2c",
   "metadata": {},
   "outputs": [
    {
     "name": "stdout",
     "output_type": "stream",
     "text": [
      "[1822256.75, 2202022.5, 2807100.25, 3390670.25, 3152606.75, 2577802.25, 2647775.75, 2244467.75, 2097560.0, 3736726.75, 3199603.25, 4613443.5]\n"
     ]
    },
    {
     "data": {
      "image/png": "[encoded data removed]",
      "text/plain": [
       "<Figure size 720x360 with 1 Axes>"
      ]
     },
     "metadata": {
      "needs_background": "light"
     },
     "output_type": "display_data"
    }
   ],
   "source": [
    "df['Sales']=df['Quantity Ordered']*df['Price Each']\n",
    "#Di chuyển cột sales qua sau price\n",
    "moving_column=df.pop('Sales')\n",
    "df.insert(4,'Sales',moving_column)\n",
    "#Tính tổng Doanh số theo từng tháng\n",
    "\n",
    "sales_value_by_month=df.groupby('Month').sum()['Sales']\n",
    "value_by_month=[value for value in sales_value_by_month]\n",
    "print(value_by_month)\n",
    "# Tạo biểu đồ cột hiển thị Doanh số theo từng tháng\n",
    "plt.figure(figsize = (10,5))\n",
    "months=range(1,13)\n",
    "plt.bar(x=months,height=sales_value_by_month)\n",
    "\n",
    "plt.xticks(months)\n",
    "\n",
    "plt.xlabel(\"Months\")\n",
    "plt.ylabel(\"Sales in USD\")\n",
    "\n",
    "plt.grid()\n",
    "plt.show()"
   ]
  },
  {
   "cell_type": "markdown",
   "id": "72799dbb",
   "metadata": {},
   "source": [
    "Kết luận: Tháng có doanh số tốt nhất là tháng 12 với Doanh số là 4613443.5 USD"
   ]
  },
  {
   "cell_type": "code",
   "execution_count": null,
   "id": "41b4ad32",
   "metadata": {},
   "outputs": [],
   "source": [
    "###Câu hỏi 2:Thành phố nào có doanh số cao nhất?"
   ]
  },
  {
   "cell_type": "code",
   "execution_count": 126,
   "id": "8c92a93b",
   "metadata": {},
   "outputs": [
    {
     "name": "stderr",
     "output_type": "stream",
     "text": [
      "<ipython-input-126-1294ef795b32>:13: MatplotlibDeprecationWarning: Case-insensitive properties were deprecated in 3.3 and support will be removed two minor releases later\n",
      "  plt.text(i, sales_value[i], sales_value[i], ha = 'center',\n"
     ]
    },
    {
     "data": {
      "image/png": "[encoded data removed]",
      "text/plain": [
       "<Figure size 720x360 with 1 Axes>"
      ]
     },
     "metadata": {
      "needs_background": "light"
     },
     "output_type": "display_data"
    },
    {
     "name": "stdout",
     "output_type": "stream",
     "text": [
      "8262204.0\n"
     ]
    }
   ],
   "source": [
    "#Tạo 1 function để cắt thành phố từ địa chỉ\n",
    "address_to_city=lambda address:address.split(\",\")[1]\n",
    "df['City']=df['Purchase Address'].apply(address_to_city)\n",
    "#Doanh số theo từng thành phố\n",
    "sales_by_city=df.groupby('City').sum()['Sales']\n",
    "#Tạo biểu đồ bar chart\n",
    "cities=[city for city,value in sales_by_city.items()]\n",
    "sales_value=[value for city,value in sales_by_city.items()]\n",
    "plt.figure(figsize = (10,5))\n",
    "plt.bar(x=cities,height=sales_by_city,data=sales_by_city)\n",
    "plt.xticks(cities, rotation=90, size=8)\n",
    "for i in range(len(cities)):\n",
    "        plt.text(i, sales_value[i], sales_value[i], ha = 'center',\n",
    "                 Bbox = dict(facecolor = 'red', alpha =.8))\n",
    "plt.xlabel(\"City\")\n",
    "plt.ylabel(\"Sales By City\")\n",
    "plt.show()\n",
    "print(max(sales_value))"
   ]
  },
  {
   "cell_type": "markdown",
   "id": "9d00f6ae",
   "metadata": {},
   "source": [
    "Kết luận: Doanh số bán hàng tại San Francisco lớn nhất với giá trị là 8262204 USD"
   ]
  },
  {
   "cell_type": "code",
   "execution_count": null,
   "id": "829527ce",
   "metadata": {},
   "outputs": [],
   "source": [
    "###Câu hỏi 3: Doanh nghiệp cần chiếu quảng cáo vào khung thời gian nào để tăng khả năng mua hàng của khách hàng?"
   ]
  },
  {
   "cell_type": "code",
   "execution_count": 122,
   "id": "0ba744a4",
   "metadata": {},
   "outputs": [
    {
     "data": {
      "image/png": "[encoded data removed]",
      "text/plain": [
       "<Figure size 432x288 with 1 Axes>"
      ]
     },
     "metadata": {
      "needs_background": "light"
     },
     "output_type": "display_data"
    }
   ],
   "source": [
    "df.head()\n",
    "df['Hours']=df['Order Date'].dt.hour\n",
    "sales_value_hours=df.groupby('Hours').count()['Sales']\n",
    "hours = [hour for hour, sales in sales_value_hours.items()]\n",
    "# Vẽ biểu đồ đường hiển thị\n",
    "plt.plot(hours,sales_value_hours)\n",
    "plt.grid()\n",
    "plt.xticks(hours, rotation=90, size=8)\n",
    "plt.xlabel('Hours')\n",
    "plt.ylabel('Sales in USD')\n",
    "plt.show()"
   ]
  },
  {
   "cell_type": "markdown",
   "id": "f82dd8cf",
   "metadata": {},
   "source": [
    "Từ biểu đồ trên ta nhận thấy khung thời gian từ 11h-12h và 18-20h là 2 khung thời gian có số lượng đơn hàng nhiều nhất. Do đó\n",
    "Ta có kết luận như sau:\n",
    "- Doanh nghiệp nên chiếu quảng cáo trước tầm 30 phút của những khung thời gian trên để tăng khả năng mua hàng của khách hàng\n",
    "- Tập trung xây dựng chiến dịch quảng cáo phù hợp với khách hàng theo khung thời gian trên để tối ưu hóa cơ hội thành doanh thu"
   ]
  },
  {
   "cell_type": "code",
   "execution_count": null,
   "id": "868538ef",
   "metadata": {},
   "outputs": [],
   "source": [
    "###Câu 4: Những sản phẩm nào thường được bán cùng nhau?"
   ]
  },
  {
   "cell_type": "code",
   "execution_count": 130,
   "id": "9a9ea382",
   "metadata": {},
   "outputs": [
    {
     "name": "stdout",
     "output_type": "stream",
     "text": [
      "('iPhone', ' Lightning Charging Cable') 2140\n",
      "('Google Phone', ' USB-C Charging Cable') 2116\n",
      "('iPhone', ' Wired Headphones') 987\n",
      "('Google Phone', ' Wired Headphones') 949\n",
      "('iPhone', ' Apple Airpods Headphones') 799\n",
      "('Vareebadd Phone', ' USB-C Charging Cable') 773\n",
      "('Google Phone', ' Bose SoundSport Headphones') 503\n",
      "(' USB-C Charging Cable', ' Wired Headphones') 372\n",
      "('Vareebadd Phone', ' Wired Headphones') 327\n",
      "(' Lightning Charging Cable', ' Wired Headphones') 193\n"
     ]
    },
    {
     "name": "stderr",
     "output_type": "stream",
     "text": [
      "<ipython-input-130-44e932b89221>:8: SettingWithCopyWarning: \n",
      "A value is trying to be set on a copy of a slice from a DataFrame.\n",
      "Try using .loc[row_indexer,col_indexer] = value instead\n",
      "\n",
      "See the caveats in the documentation: https://pandas.pydata.org/pandas-docs/stable/user_guide/indexing.html#returning-a-view-versus-a-copy\n",
      "  df_dup['All Products'] = df_dup.groupby('Order ID')['Product'].transform(groupProduct)\n"
     ]
    }
   ],
   "source": [
    "#Để tìm những sản phẩm mua cùng nhau chúng ta sẽ lọc những đơn hàng có mã lặp lại để tìm và loại bỏ mã đơn hàng k trùng lặp\n",
    "#để keep =false để k id trùng lặp k bị xóa\n",
    "df_dup = df[df['Order ID'].duplicated(keep=False)]\n",
    "#Tạo function nhóm các tên sản phẩm lại với nhau\n",
    "groupProduct = lambda product: ', '.join(product)\n",
    "#Tạo bảng mới chứa chuỗi các sản phẩm theo order ID\n",
    "#apply trả về dataframe(bảng) còn transform trả về 1 series tức là cột\n",
    "df_dup['All Products'] = df_dup.groupby('Order ID')['Product'].transform(groupProduct)\n",
    "#Tạo 1 iterator để lưu trữ nhóm sản phẩm và số lượng bán của từng sản phẩm trong nhóm\n",
    "from itertools import combinations\n",
    "from collections import Counter\n",
    "\n",
    "count = Counter()\n",
    "\n",
    "for products in df_dup['All Products']:\n",
    "    product_list = products.split(\",\")\n",
    "    count.update(Counter(combinations(product_list, 2)))\n",
    "\n",
    "\n",
    "#Bỏ đi những dòng duplicate không cần thiết nữa\n",
    "df_dup = df_dup[['Order ID', 'All Products']].drop_duplicates()\n",
    "#Lấy ra các nhóm sản phẩm và số lượng đã bán với nhóm đó\n",
    "for key, value in count.most_common(10):\n",
    "    print(key, value)"
   ]
  },
  {
   "cell_type": "markdown",
   "id": "69476e5f",
   "metadata": {},
   "source": [
    "Từ bản trên ta thấy được: \n",
    "- Khách hàng khi mua iphone có xu hướng mua kèm thêm cổng sạc lightning cho điện thoại hoặc Tai nghe Không dây\n",
    "- Khách hàng mua Google Phone thì mua kèm thêm cổng USB - C hoặc tai nghe không dây\n",
    "Từ đó kết luận được:\n",
    "- Sản phẩm Điện thoại với cáp sạc hoặc điện thoại với tai nghe thường được bán cùng nhau"
   ]
  },
  {
   "cell_type": "code",
   "execution_count": null,
   "id": "dde3e188",
   "metadata": {},
   "outputs": [],
   "source": [
    "###Câu 5: Sản phẩm nào được bán nhiều nhất? Giả thiết của bạn về lý do sản phẩm này được bán nhiều nhất là gì? "
   ]
  },
  {
   "cell_type": "code",
   "execution_count": 133,
   "id": "19bace5e",
   "metadata": {},
   "outputs": [
    {
     "name": "stderr",
     "output_type": "stream",
     "text": [
      "<ipython-input-133-695b781e627a>:16: UserWarning: FixedFormatter should only be used together with FixedLocator\n",
      "  ax1.set_xticklabels(products_ls, rotation=90, size=8)\n"
     ]
    },
    {
     "data": {
      "image/png": "[encoded data removed]",
      "text/plain": [
       "<Figure size 432x288 with 2 Axes>"
      ]
     },
     "metadata": {
      "needs_background": "light"
     },
     "output_type": "display_data"
    }
   ],
   "source": [
    "#Nhóm theo sản phẩm để tính tổng sản phẩm đã bán theo tên sản phẩm\n",
    "all_products = df.groupby('Product').sum()['Quantity Ordered']\n",
    "prices = df.groupby('Product').mean()['Price Each']\n",
    "products_ls = [product for product, quant in all_products.items()]\n",
    "\n",
    "x = products_ls\n",
    "y1 = all_products\n",
    "y2 = prices\n",
    "\n",
    "fig, ax1 = plt.subplots()\n",
    "\n",
    "ax2 = ax1.twinx()\n",
    "ax1.bar(x, y1, color='g')\n",
    "ax2.plot(x, y2, 'b-')\n",
    "\n",
    "ax1.set_xticklabels(products_ls, rotation=90, size=8)\n",
    "ax1.set_xlabel('Products')\n",
    "ax1.set_ylabel('Quantity Ordered', color='g')\n",
    "ax2.set_ylabel('Price Each', color='b')\n",
    "\n",
    "plt.show()"
   ]
  },
  {
   "cell_type": "code",
   "execution_count": null,
   "id": "e4bafb36",
   "metadata": {},
   "outputs": [],
   "source": [
    "Nhìn từ biểu đồ ta thấy sản phẩm Bin AAA là sản phẩm bán chạy nhất.\n",
    "Giả thiết đặt ra là liệu giá cả có phải yếu tố quyết định đến doanh số của pin AAA bán chạy nhất hay không\n",
    "Sau khi nhìn biểu đồ thể hiện mối tương quan của giá và doanh số ta rút ra kết luận như sau:\n",
    "    - sản phẩm có giá thấp có xu hướng bán chạy hơn so với những sản phẩm giá cao hơn\n",
    "    - Các sản phẩm xa xỉ phẩm như laptop, macbook mặc dù giá cao hơn nhưng lại bán chạy hơn so với sản phẩm máy giặt, sấy.\n",
    "    Điều này có thể là do yếu tố thương hiệu hoặc nhu cầu về máy tính nhiều hơn so với các máy giặt sấy nên mặc dù giá cao \n",
    "    nhưng lại bán chạy hơn "
   ]
  }
 ],
 "metadata": {
  "kernelspec": {
   "display_name": "Python 3",
   "language": "python",
   "name": "python3"
  },
  "language_info": {
   "codemirror_mode": {
    "name": "ipython",
    "version": 3
   },
   "file_extension": ".py",
   "mimetype": "text/x-python",
   "name": "python",
   "nbconvert_exporter": "python",
   "pygments_lexer": "ipython3",
   "version": "3.9.13"
  }
 },
 "nbformat": 4,
 "nbformat_minor": 5
}
